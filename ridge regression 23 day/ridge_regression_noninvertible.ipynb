{
 "cells": [
  {
   "cell_type": "markdown",
   "id": "709b6dbe",
   "metadata": {},
   "source": [
    "# Ridge Regression with Non-invertible Matrix\n",
    "\n",
    "This notebook demonstrates how Ridge Regression handles cases where features are dependent (X2 = 2X1), making the normal equation non-invertible. We'll:\n",
    "1. Create a dataset with dependent features\n",
    "2. Show why OLS fails (non-invertible matrix)\n",
    "3. Solve using Ridge Regression\n",
    "4. Visualize the solution in 3D"
   ]
  },
  {
   "cell_type": "code",
   "execution_count": 1,
   "id": "353402d8",
   "metadata": {},
   "outputs": [],
   "source": [
    "# Import required libraries\n",
    "import numpy as np\n",
    "import matplotlib.pyplot as plt\n",
    "from mpl_toolkits.mplot3d import Axes3D  # For 3D plotting"
   ]
  },
  {
   "cell_type": "code",
   "execution_count": null,
   "id": "4aaf0492",
   "metadata": {},
   "outputs": [],
   "source": [
    "# Create dataset with dependent features (X2 = 2X1)\n",
    "X1 = np.array([1, 2, 3, 4])\n",
    "X2 = 2 * X1  # Dependent feature\n",
    "Y = np.array([5, 9, 13, 17])\n",
    "\n",
    "# Create design matrix X\n",
    "X = np.column_stack([X1, X2])\n",
    "\n",
    "print(\"X1:\", X1)\n",
    "print(\"X2:\", X2)\n",
    "print(\"Y:\", Y)\n",
    "print(\"\\nDesign matrix X:\\n\", X)"
   ]
  },
  {
   "cell_type": "code",
   "execution_count": null,
   "id": "5136dca7",
   "metadata": {},
   "outputs": [],
   "source": [
    "# Calculate X^T X\n",
    "XTX = X.T @ X\n",
    "print(\"X^T X:\\n\", XTX)\n",
    "\n",
    "# Calculate determinant\n",
    "det = np.linalg.det(XTX)\n",
    "print(\"\\nDeterminant of X^T X:\", det)\n",
    "print(\"This is effectively zero, showing the matrix is non-invertible\")\n",
    "\n",
    "# Try Ridge Regression solution\n",
    "lambda_ridge = 1.0  # regularization parameter\n",
    "XTX_ridge = XTX + lambda_ridge * np.eye(2)\n",
    "beta_ridge = np.linalg.inv(XTX_ridge) @ X.T @ Y\n",
    "\n",
    "print(\"\\nRidge Regression coefficients:\", beta_ridge)"
   ]
  },
  {
   "cell_type": "code",
   "execution_count": null,
   "id": "7f5f0c14",
   "metadata": {},
   "outputs": [],
   "source": [
    "# Create 3D visualization\n",
    "fig = plt.figure(figsize=(12, 8))\n",
    "ax = fig.add_subplot(111, projection='3d')\n",
    "\n",
    "# Plot the original points\n",
    "ax.scatter(X1, X2, Y, c='r', marker='o', s=100, label='Data points')\n",
    "\n",
    "# Create a mesh grid for the plane\n",
    "x1_range = np.linspace(min(X1)-1, max(X1)+1, 50)\n",
    "x2_range = np.linspace(min(X2)-1, max(X2)+1, 50)\n",
    "X1_grid, X2_grid = np.meshgrid(x1_range, x2_range)\n",
    "Y_grid = beta_ridge[0] * X1_grid + beta_ridge[1] * X2_grid\n",
    "\n",
    "# Plot the fitted plane\n",
    "ax.plot_surface(X1_grid, X2_grid, Y_grid, alpha=0.3, color='b')\n",
    "\n",
    "ax.set_xlabel('X1')\n",
    "ax.set_ylabel('X2')\n",
    "ax.set_zlabel('Y')\n",
    "ax.set_title('Ridge Regression Fit (3D)')\n",
    "plt.legend()\n",
    "plt.show()\n",
    "\n",
    "# Calculate and print predictions\n",
    "Y_pred = X @ beta_ridge\n",
    "print(\"\\nPredicted values:\", Y_pred)\n",
    "print(\"Actual values:\", Y)"
   ]
  }
 ],
 "metadata": {
  "kernelspec": {
   "display_name": "Python 3",
   "language": "python",
   "name": "python3"
  },
  "language_info": {
   "codemirror_mode": {
    "name": "ipython",
    "version": 3
   },
   "file_extension": ".py",
   "mimetype": "text/x-python",
   "name": "python",
   "nbconvert_exporter": "python",
   "pygments_lexer": "ipython3",
   "version": "3.12.4"
  }
 },
 "nbformat": 4,
 "nbformat_minor": 5
}
